{
 "cells": [
  {
   "cell_type": "markdown",
   "metadata": {},
   "source": [
    "# Summary: \n",
    "This notebook contains the soft smoothing figures for Swarthmore (Figure 3(a))."
   ]
  },
  {
   "cell_type": "markdown",
   "metadata": {},
   "source": [
    "## Load libraries"
   ]
  },
  {
   "cell_type": "code",
   "execution_count": 1,
   "metadata": {},
   "outputs": [],
   "source": [
    "# import packages\n",
    "from __future__ import division\n",
    "\n",
    "import networkx as nx\n",
    "\n",
    "import numpy as np\n",
    "import os\n",
    "from sklearn import metrics\n",
    "from sklearn.preprocessing import label_binarize\n",
    "from sklearn.metrics import f1_score\n",
    "from sklearn.metrics import roc_auc_score\n",
    "from sklearn.model_selection import StratifiedShuffleSplit\n",
    "from sklearn.model_selection import ShuffleSplit\n",
    "\n",
    "import matplotlib.pyplot as plt\n",
    "import itertools\n",
    "\n",
    "from numpy.linalg import inv\n",
    "\n",
    "## function to create + save dictionary of features\n",
    "def create_dict(key, obj):\n",
    "    return(dict([(key[i], obj[i]) for i in range(len(key))]))"
   ]
  },
  {
   "cell_type": "markdown",
   "metadata": {},
   "source": [
    "## load helper functions and dataset"
   ]
  },
  {
   "cell_type": "code",
   "execution_count": 2,
   "metadata": {},
   "outputs": [],
   "source": [
    "# set the working directory and import helper functions\n",
    "#get the current working directory and then redirect into the functions under code \n",
    "cwd = os.getcwd()\n",
    "\n",
    "# parents working directory of the current directory: which is the code folder\n",
    "parent_cwd = os.path.dirname(cwd)\n",
    "# get into the functions folder\n",
    "functions_cwd = parent_cwd + '/functions'\n",
    "# change the working directory to be .../functions\n",
    "os.chdir(functions_cwd)\n",
    "\n",
    "# import all helper functions\n",
    "exec(open('parsing.py').read())\n",
    "exec(open('ZGL.py').read())\n",
    "exec(open('create_graph.py').read())\n",
    "exec(open('ZGL_softing_new_new.py').read())\n",
    "exec(open('one_hop_majority_vote.py').read())\n",
    "exec(open('iterative_method_test.py').read())\n",
    "#exec(open('iterative_method_test_new.py').read())\n",
    "exec(open('decoupling_prepare.py').read())\n",
    "\n",
    "\n",
    "# import the data from the data folder\n",
    "data_cwd = os.path.dirname(parent_cwd)+ '/data'\n",
    "\n",
    "# change the working directory and import the fb dataset\n",
    "fb100_file = data_cwd +'/Swarthmore42'\n",
    "\n",
    "A, metadata = parse_fb100_mat_file(fb100_file)\n",
    "\n",
    "# change A(scipy csc matrix) into a numpy matrix\n",
    "adj_matrix_tmp = A.todense()\n",
    "#get the gender for each node(1/2,0 for missing)\n",
    "gender_y_tmp = metadata[:,1] \n",
    "# get the corresponding gender for each node in a disctionary form\n",
    "gender_dict = create_dict(range(len(gender_y_tmp)), gender_y_tmp)\n",
    "\n",
    "(graph, gender_y)  = create_graph(adj_matrix_tmp,gender_dict,'gender',0,None,'yes') "
   ]
  },
  {
   "cell_type": "markdown",
   "metadata": {},
   "source": [
    "## Setup"
   ]
  },
  {
   "cell_type": "code",
   "execution_count": 3,
   "metadata": {},
   "outputs": [],
   "source": [
    "percent_initially_unlabelled = [0.99,0.95,0.9,0.8,0.7,0.6,0.5,0.4,0.3,0.2,0.1,0.05] \n",
    "percent_initially_labelled = np.subtract(1, percent_initially_unlabelled) \n",
    "n_iter = 10\n",
    "cv_setup='stratified'"
   ]
  },
  {
   "cell_type": "markdown",
   "metadata": {},
   "source": [
    "## 1-hop and 2-hop MV method"
   ]
  },
  {
   "cell_type": "code",
   "execution_count": 4,
   "metadata": {},
   "outputs": [
    {
     "name": "stdout",
     "output_type": "stream",
     "text": [
      "0.99\n"
     ]
    },
    {
     "name": "stderr",
     "output_type": "stream",
     "text": [
      "/Users/yatong_chen/anaconda3/lib/python3.7/site-packages/ipykernel_launcher.py:20: DeprecationWarning: Calling np.sum(generator) is deprecated, and in the future will give a different result. Use np.sum(np.from_iter(generator)) or the python sum builtin instead.\n",
      "/Users/yatong_chen/anaconda3/lib/python3.7/site-packages/ipykernel_launcher.py:45: DeprecationWarning: Calling np.sum(generator) is deprecated, and in the future will give a different result. Use np.sum(np.from_iter(generator)) or the python sum builtin instead.\n",
      "/Users/yatong_chen/anaconda3/lib/python3.7/site-packages/ipykernel_launcher.py:20: DeprecationWarning: Calling np.sum(generator) is deprecated, and in the future will give a different result. Use np.sum(np.from_iter(generator)) or the python sum builtin instead.\n",
      "/Users/yatong_chen/anaconda3/lib/python3.7/site-packages/ipykernel_launcher.py:45: DeprecationWarning: Calling np.sum(generator) is deprecated, and in the future will give a different result. Use np.sum(np.from_iter(generator)) or the python sum builtin instead.\n",
      "/Users/yatong_chen/anaconda3/lib/python3.7/site-packages/ipykernel_launcher.py:20: DeprecationWarning: Calling np.sum(generator) is deprecated, and in the future will give a different result. Use np.sum(np.from_iter(generator)) or the python sum builtin instead.\n",
      "/Users/yatong_chen/anaconda3/lib/python3.7/site-packages/ipykernel_launcher.py:45: DeprecationWarning: Calling np.sum(generator) is deprecated, and in the future will give a different result. Use np.sum(np.from_iter(generator)) or the python sum builtin instead.\n",
      "/Users/yatong_chen/anaconda3/lib/python3.7/site-packages/ipykernel_launcher.py:20: DeprecationWarning: Calling np.sum(generator) is deprecated, and in the future will give a different result. Use np.sum(np.from_iter(generator)) or the python sum builtin instead.\n",
      "/Users/yatong_chen/anaconda3/lib/python3.7/site-packages/ipykernel_launcher.py:45: DeprecationWarning: Calling np.sum(generator) is deprecated, and in the future will give a different result. Use np.sum(np.from_iter(generator)) or the python sum builtin instead.\n",
      "/Users/yatong_chen/anaconda3/lib/python3.7/site-packages/ipykernel_launcher.py:20: DeprecationWarning: Calling np.sum(generator) is deprecated, and in the future will give a different result. Use np.sum(np.from_iter(generator)) or the python sum builtin instead.\n",
      "/Users/yatong_chen/anaconda3/lib/python3.7/site-packages/ipykernel_launcher.py:45: DeprecationWarning: Calling np.sum(generator) is deprecated, and in the future will give a different result. Use np.sum(np.from_iter(generator)) or the python sum builtin instead.\n",
      "/Users/yatong_chen/anaconda3/lib/python3.7/site-packages/ipykernel_launcher.py:20: DeprecationWarning: Calling np.sum(generator) is deprecated, and in the future will give a different result. Use np.sum(np.from_iter(generator)) or the python sum builtin instead.\n",
      "/Users/yatong_chen/anaconda3/lib/python3.7/site-packages/ipykernel_launcher.py:45: DeprecationWarning: Calling np.sum(generator) is deprecated, and in the future will give a different result. Use np.sum(np.from_iter(generator)) or the python sum builtin instead.\n",
      "/Users/yatong_chen/anaconda3/lib/python3.7/site-packages/ipykernel_launcher.py:20: DeprecationWarning: Calling np.sum(generator) is deprecated, and in the future will give a different result. Use np.sum(np.from_iter(generator)) or the python sum builtin instead.\n",
      "/Users/yatong_chen/anaconda3/lib/python3.7/site-packages/ipykernel_launcher.py:45: DeprecationWarning: Calling np.sum(generator) is deprecated, and in the future will give a different result. Use np.sum(np.from_iter(generator)) or the python sum builtin instead.\n",
      "/Users/yatong_chen/anaconda3/lib/python3.7/site-packages/ipykernel_launcher.py:20: DeprecationWarning: Calling np.sum(generator) is deprecated, and in the future will give a different result. Use np.sum(np.from_iter(generator)) or the python sum builtin instead.\n",
      "/Users/yatong_chen/anaconda3/lib/python3.7/site-packages/ipykernel_launcher.py:45: DeprecationWarning: Calling np.sum(generator) is deprecated, and in the future will give a different result. Use np.sum(np.from_iter(generator)) or the python sum builtin instead.\n",
      "/Users/yatong_chen/anaconda3/lib/python3.7/site-packages/ipykernel_launcher.py:20: DeprecationWarning: Calling np.sum(generator) is deprecated, and in the future will give a different result. Use np.sum(np.from_iter(generator)) or the python sum builtin instead.\n",
      "/Users/yatong_chen/anaconda3/lib/python3.7/site-packages/ipykernel_launcher.py:45: DeprecationWarning: Calling np.sum(generator) is deprecated, and in the future will give a different result. Use np.sum(np.from_iter(generator)) or the python sum builtin instead.\n",
      "/Users/yatong_chen/anaconda3/lib/python3.7/site-packages/ipykernel_launcher.py:20: DeprecationWarning: Calling np.sum(generator) is deprecated, and in the future will give a different result. Use np.sum(np.from_iter(generator)) or the python sum builtin instead.\n",
      "/Users/yatong_chen/anaconda3/lib/python3.7/site-packages/ipykernel_launcher.py:45: DeprecationWarning: Calling np.sum(generator) is deprecated, and in the future will give a different result. Use np.sum(np.from_iter(generator)) or the python sum builtin instead.\n"
     ]
    },
    {
     "name": "stdout",
     "output_type": "stream",
     "text": [
      "0.95\n"
     ]
    },
    {
     "name": "stderr",
     "output_type": "stream",
     "text": [
      "/Users/yatong_chen/anaconda3/lib/python3.7/site-packages/ipykernel_launcher.py:20: DeprecationWarning: Calling np.sum(generator) is deprecated, and in the future will give a different result. Use np.sum(np.from_iter(generator)) or the python sum builtin instead.\n",
      "/Users/yatong_chen/anaconda3/lib/python3.7/site-packages/ipykernel_launcher.py:45: DeprecationWarning: Calling np.sum(generator) is deprecated, and in the future will give a different result. Use np.sum(np.from_iter(generator)) or the python sum builtin instead.\n",
      "/Users/yatong_chen/anaconda3/lib/python3.7/site-packages/ipykernel_launcher.py:20: DeprecationWarning: Calling np.sum(generator) is deprecated, and in the future will give a different result. Use np.sum(np.from_iter(generator)) or the python sum builtin instead.\n",
      "/Users/yatong_chen/anaconda3/lib/python3.7/site-packages/ipykernel_launcher.py:45: DeprecationWarning: Calling np.sum(generator) is deprecated, and in the future will give a different result. Use np.sum(np.from_iter(generator)) or the python sum builtin instead.\n",
      "/Users/yatong_chen/anaconda3/lib/python3.7/site-packages/ipykernel_launcher.py:20: DeprecationWarning: Calling np.sum(generator) is deprecated, and in the future will give a different result. Use np.sum(np.from_iter(generator)) or the python sum builtin instead.\n",
      "/Users/yatong_chen/anaconda3/lib/python3.7/site-packages/ipykernel_launcher.py:45: DeprecationWarning: Calling np.sum(generator) is deprecated, and in the future will give a different result. Use np.sum(np.from_iter(generator)) or the python sum builtin instead.\n",
      "/Users/yatong_chen/anaconda3/lib/python3.7/site-packages/ipykernel_launcher.py:20: DeprecationWarning: Calling np.sum(generator) is deprecated, and in the future will give a different result. Use np.sum(np.from_iter(generator)) or the python sum builtin instead.\n",
      "/Users/yatong_chen/anaconda3/lib/python3.7/site-packages/ipykernel_launcher.py:45: DeprecationWarning: Calling np.sum(generator) is deprecated, and in the future will give a different result. Use np.sum(np.from_iter(generator)) or the python sum builtin instead.\n",
      "/Users/yatong_chen/anaconda3/lib/python3.7/site-packages/ipykernel_launcher.py:20: DeprecationWarning: Calling np.sum(generator) is deprecated, and in the future will give a different result. Use np.sum(np.from_iter(generator)) or the python sum builtin instead.\n",
      "/Users/yatong_chen/anaconda3/lib/python3.7/site-packages/ipykernel_launcher.py:45: DeprecationWarning: Calling np.sum(generator) is deprecated, and in the future will give a different result. Use np.sum(np.from_iter(generator)) or the python sum builtin instead.\n",
      "/Users/yatong_chen/anaconda3/lib/python3.7/site-packages/ipykernel_launcher.py:20: DeprecationWarning: Calling np.sum(generator) is deprecated, and in the future will give a different result. Use np.sum(np.from_iter(generator)) or the python sum builtin instead.\n",
      "/Users/yatong_chen/anaconda3/lib/python3.7/site-packages/ipykernel_launcher.py:45: DeprecationWarning: Calling np.sum(generator) is deprecated, and in the future will give a different result. Use np.sum(np.from_iter(generator)) or the python sum builtin instead.\n",
      "/Users/yatong_chen/anaconda3/lib/python3.7/site-packages/ipykernel_launcher.py:20: DeprecationWarning: Calling np.sum(generator) is deprecated, and in the future will give a different result. Use np.sum(np.from_iter(generator)) or the python sum builtin instead.\n",
      "/Users/yatong_chen/anaconda3/lib/python3.7/site-packages/ipykernel_launcher.py:45: DeprecationWarning: Calling np.sum(generator) is deprecated, and in the future will give a different result. Use np.sum(np.from_iter(generator)) or the python sum builtin instead.\n",
      "/Users/yatong_chen/anaconda3/lib/python3.7/site-packages/ipykernel_launcher.py:20: DeprecationWarning: Calling np.sum(generator) is deprecated, and in the future will give a different result. Use np.sum(np.from_iter(generator)) or the python sum builtin instead.\n",
      "/Users/yatong_chen/anaconda3/lib/python3.7/site-packages/ipykernel_launcher.py:45: DeprecationWarning: Calling np.sum(generator) is deprecated, and in the future will give a different result. Use np.sum(np.from_iter(generator)) or the python sum builtin instead.\n",
      "/Users/yatong_chen/anaconda3/lib/python3.7/site-packages/ipykernel_launcher.py:20: DeprecationWarning: Calling np.sum(generator) is deprecated, and in the future will give a different result. Use np.sum(np.from_iter(generator)) or the python sum builtin instead.\n",
      "/Users/yatong_chen/anaconda3/lib/python3.7/site-packages/ipykernel_launcher.py:45: DeprecationWarning: Calling np.sum(generator) is deprecated, and in the future will give a different result. Use np.sum(np.from_iter(generator)) or the python sum builtin instead.\n",
      "/Users/yatong_chen/anaconda3/lib/python3.7/site-packages/ipykernel_launcher.py:20: DeprecationWarning: Calling np.sum(generator) is deprecated, and in the future will give a different result. Use np.sum(np.from_iter(generator)) or the python sum builtin instead.\n",
      "/Users/yatong_chen/anaconda3/lib/python3.7/site-packages/ipykernel_launcher.py:45: DeprecationWarning: Calling np.sum(generator) is deprecated, and in the future will give a different result. Use np.sum(np.from_iter(generator)) or the python sum builtin instead.\n"
     ]
    },
    {
     "name": "stdout",
     "output_type": "stream",
     "text": [
      "0.9\n"
     ]
    },
    {
     "name": "stderr",
     "output_type": "stream",
     "text": [
      "/Users/yatong_chen/anaconda3/lib/python3.7/site-packages/ipykernel_launcher.py:20: DeprecationWarning: Calling np.sum(generator) is deprecated, and in the future will give a different result. Use np.sum(np.from_iter(generator)) or the python sum builtin instead.\n",
      "/Users/yatong_chen/anaconda3/lib/python3.7/site-packages/ipykernel_launcher.py:45: DeprecationWarning: Calling np.sum(generator) is deprecated, and in the future will give a different result. Use np.sum(np.from_iter(generator)) or the python sum builtin instead.\n",
      "/Users/yatong_chen/anaconda3/lib/python3.7/site-packages/ipykernel_launcher.py:20: DeprecationWarning: Calling np.sum(generator) is deprecated, and in the future will give a different result. Use np.sum(np.from_iter(generator)) or the python sum builtin instead.\n",
      "/Users/yatong_chen/anaconda3/lib/python3.7/site-packages/ipykernel_launcher.py:45: DeprecationWarning: Calling np.sum(generator) is deprecated, and in the future will give a different result. Use np.sum(np.from_iter(generator)) or the python sum builtin instead.\n",
      "/Users/yatong_chen/anaconda3/lib/python3.7/site-packages/ipykernel_launcher.py:20: DeprecationWarning: Calling np.sum(generator) is deprecated, and in the future will give a different result. Use np.sum(np.from_iter(generator)) or the python sum builtin instead.\n",
      "/Users/yatong_chen/anaconda3/lib/python3.7/site-packages/ipykernel_launcher.py:45: DeprecationWarning: Calling np.sum(generator) is deprecated, and in the future will give a different result. Use np.sum(np.from_iter(generator)) or the python sum builtin instead.\n",
      "/Users/yatong_chen/anaconda3/lib/python3.7/site-packages/ipykernel_launcher.py:20: DeprecationWarning: Calling np.sum(generator) is deprecated, and in the future will give a different result. Use np.sum(np.from_iter(generator)) or the python sum builtin instead.\n",
      "/Users/yatong_chen/anaconda3/lib/python3.7/site-packages/ipykernel_launcher.py:45: DeprecationWarning: Calling np.sum(generator) is deprecated, and in the future will give a different result. Use np.sum(np.from_iter(generator)) or the python sum builtin instead.\n",
      "/Users/yatong_chen/anaconda3/lib/python3.7/site-packages/ipykernel_launcher.py:20: DeprecationWarning: Calling np.sum(generator) is deprecated, and in the future will give a different result. Use np.sum(np.from_iter(generator)) or the python sum builtin instead.\n",
      "/Users/yatong_chen/anaconda3/lib/python3.7/site-packages/ipykernel_launcher.py:45: DeprecationWarning: Calling np.sum(generator) is deprecated, and in the future will give a different result. Use np.sum(np.from_iter(generator)) or the python sum builtin instead.\n",
      "/Users/yatong_chen/anaconda3/lib/python3.7/site-packages/ipykernel_launcher.py:20: DeprecationWarning: Calling np.sum(generator) is deprecated, and in the future will give a different result. Use np.sum(np.from_iter(generator)) or the python sum builtin instead.\n",
      "/Users/yatong_chen/anaconda3/lib/python3.7/site-packages/ipykernel_launcher.py:45: DeprecationWarning: Calling np.sum(generator) is deprecated, and in the future will give a different result. Use np.sum(np.from_iter(generator)) or the python sum builtin instead.\n",
      "/Users/yatong_chen/anaconda3/lib/python3.7/site-packages/ipykernel_launcher.py:20: DeprecationWarning: Calling np.sum(generator) is deprecated, and in the future will give a different result. Use np.sum(np.from_iter(generator)) or the python sum builtin instead.\n",
      "/Users/yatong_chen/anaconda3/lib/python3.7/site-packages/ipykernel_launcher.py:45: DeprecationWarning: Calling np.sum(generator) is deprecated, and in the future will give a different result. Use np.sum(np.from_iter(generator)) or the python sum builtin instead.\n",
      "/Users/yatong_chen/anaconda3/lib/python3.7/site-packages/ipykernel_launcher.py:20: DeprecationWarning: Calling np.sum(generator) is deprecated, and in the future will give a different result. Use np.sum(np.from_iter(generator)) or the python sum builtin instead.\n",
      "/Users/yatong_chen/anaconda3/lib/python3.7/site-packages/ipykernel_launcher.py:45: DeprecationWarning: Calling np.sum(generator) is deprecated, and in the future will give a different result. Use np.sum(np.from_iter(generator)) or the python sum builtin instead.\n",
      "/Users/yatong_chen/anaconda3/lib/python3.7/site-packages/ipykernel_launcher.py:20: DeprecationWarning: Calling np.sum(generator) is deprecated, and in the future will give a different result. Use np.sum(np.from_iter(generator)) or the python sum builtin instead.\n",
      "/Users/yatong_chen/anaconda3/lib/python3.7/site-packages/ipykernel_launcher.py:45: DeprecationWarning: Calling np.sum(generator) is deprecated, and in the future will give a different result. Use np.sum(np.from_iter(generator)) or the python sum builtin instead.\n",
      "/Users/yatong_chen/anaconda3/lib/python3.7/site-packages/ipykernel_launcher.py:20: DeprecationWarning: Calling np.sum(generator) is deprecated, and in the future will give a different result. Use np.sum(np.from_iter(generator)) or the python sum builtin instead.\n",
      "/Users/yatong_chen/anaconda3/lib/python3.7/site-packages/ipykernel_launcher.py:45: DeprecationWarning: Calling np.sum(generator) is deprecated, and in the future will give a different result. Use np.sum(np.from_iter(generator)) or the python sum builtin instead.\n"
     ]
    },
    {
     "name": "stdout",
     "output_type": "stream",
     "text": [
      "0.8\n"
     ]
    },
    {
     "name": "stderr",
     "output_type": "stream",
     "text": [
      "/Users/yatong_chen/anaconda3/lib/python3.7/site-packages/ipykernel_launcher.py:20: DeprecationWarning: Calling np.sum(generator) is deprecated, and in the future will give a different result. Use np.sum(np.from_iter(generator)) or the python sum builtin instead.\n",
      "/Users/yatong_chen/anaconda3/lib/python3.7/site-packages/ipykernel_launcher.py:45: DeprecationWarning: Calling np.sum(generator) is deprecated, and in the future will give a different result. Use np.sum(np.from_iter(generator)) or the python sum builtin instead.\n",
      "/Users/yatong_chen/anaconda3/lib/python3.7/site-packages/ipykernel_launcher.py:20: DeprecationWarning: Calling np.sum(generator) is deprecated, and in the future will give a different result. Use np.sum(np.from_iter(generator)) or the python sum builtin instead.\n",
      "/Users/yatong_chen/anaconda3/lib/python3.7/site-packages/ipykernel_launcher.py:45: DeprecationWarning: Calling np.sum(generator) is deprecated, and in the future will give a different result. Use np.sum(np.from_iter(generator)) or the python sum builtin instead.\n",
      "/Users/yatong_chen/anaconda3/lib/python3.7/site-packages/ipykernel_launcher.py:20: DeprecationWarning: Calling np.sum(generator) is deprecated, and in the future will give a different result. Use np.sum(np.from_iter(generator)) or the python sum builtin instead.\n",
      "/Users/yatong_chen/anaconda3/lib/python3.7/site-packages/ipykernel_launcher.py:45: DeprecationWarning: Calling np.sum(generator) is deprecated, and in the future will give a different result. Use np.sum(np.from_iter(generator)) or the python sum builtin instead.\n",
      "/Users/yatong_chen/anaconda3/lib/python3.7/site-packages/ipykernel_launcher.py:20: DeprecationWarning: Calling np.sum(generator) is deprecated, and in the future will give a different result. Use np.sum(np.from_iter(generator)) or the python sum builtin instead.\n",
      "/Users/yatong_chen/anaconda3/lib/python3.7/site-packages/ipykernel_launcher.py:45: DeprecationWarning: Calling np.sum(generator) is deprecated, and in the future will give a different result. Use np.sum(np.from_iter(generator)) or the python sum builtin instead.\n",
      "/Users/yatong_chen/anaconda3/lib/python3.7/site-packages/ipykernel_launcher.py:20: DeprecationWarning: Calling np.sum(generator) is deprecated, and in the future will give a different result. Use np.sum(np.from_iter(generator)) or the python sum builtin instead.\n",
      "/Users/yatong_chen/anaconda3/lib/python3.7/site-packages/ipykernel_launcher.py:45: DeprecationWarning: Calling np.sum(generator) is deprecated, and in the future will give a different result. Use np.sum(np.from_iter(generator)) or the python sum builtin instead.\n",
      "/Users/yatong_chen/anaconda3/lib/python3.7/site-packages/ipykernel_launcher.py:20: DeprecationWarning: Calling np.sum(generator) is deprecated, and in the future will give a different result. Use np.sum(np.from_iter(generator)) or the python sum builtin instead.\n",
      "/Users/yatong_chen/anaconda3/lib/python3.7/site-packages/ipykernel_launcher.py:45: DeprecationWarning: Calling np.sum(generator) is deprecated, and in the future will give a different result. Use np.sum(np.from_iter(generator)) or the python sum builtin instead.\n",
      "/Users/yatong_chen/anaconda3/lib/python3.7/site-packages/ipykernel_launcher.py:20: DeprecationWarning: Calling np.sum(generator) is deprecated, and in the future will give a different result. Use np.sum(np.from_iter(generator)) or the python sum builtin instead.\n",
      "/Users/yatong_chen/anaconda3/lib/python3.7/site-packages/ipykernel_launcher.py:45: DeprecationWarning: Calling np.sum(generator) is deprecated, and in the future will give a different result. Use np.sum(np.from_iter(generator)) or the python sum builtin instead.\n",
      "/Users/yatong_chen/anaconda3/lib/python3.7/site-packages/ipykernel_launcher.py:20: DeprecationWarning: Calling np.sum(generator) is deprecated, and in the future will give a different result. Use np.sum(np.from_iter(generator)) or the python sum builtin instead.\n",
      "/Users/yatong_chen/anaconda3/lib/python3.7/site-packages/ipykernel_launcher.py:45: DeprecationWarning: Calling np.sum(generator) is deprecated, and in the future will give a different result. Use np.sum(np.from_iter(generator)) or the python sum builtin instead.\n",
      "/Users/yatong_chen/anaconda3/lib/python3.7/site-packages/ipykernel_launcher.py:20: DeprecationWarning: Calling np.sum(generator) is deprecated, and in the future will give a different result. Use np.sum(np.from_iter(generator)) or the python sum builtin instead.\n",
      "/Users/yatong_chen/anaconda3/lib/python3.7/site-packages/ipykernel_launcher.py:45: DeprecationWarning: Calling np.sum(generator) is deprecated, and in the future will give a different result. Use np.sum(np.from_iter(generator)) or the python sum builtin instead.\n",
      "/Users/yatong_chen/anaconda3/lib/python3.7/site-packages/ipykernel_launcher.py:20: DeprecationWarning: Calling np.sum(generator) is deprecated, and in the future will give a different result. Use np.sum(np.from_iter(generator)) or the python sum builtin instead.\n",
      "/Users/yatong_chen/anaconda3/lib/python3.7/site-packages/ipykernel_launcher.py:45: DeprecationWarning: Calling np.sum(generator) is deprecated, and in the future will give a different result. Use np.sum(np.from_iter(generator)) or the python sum builtin instead.\n"
     ]
    },
    {
     "name": "stdout",
     "output_type": "stream",
     "text": [
      "0.7\n"
     ]
    },
    {
     "name": "stderr",
     "output_type": "stream",
     "text": [
      "/Users/yatong_chen/anaconda3/lib/python3.7/site-packages/ipykernel_launcher.py:20: DeprecationWarning: Calling np.sum(generator) is deprecated, and in the future will give a different result. Use np.sum(np.from_iter(generator)) or the python sum builtin instead.\n",
      "/Users/yatong_chen/anaconda3/lib/python3.7/site-packages/ipykernel_launcher.py:45: DeprecationWarning: Calling np.sum(generator) is deprecated, and in the future will give a different result. Use np.sum(np.from_iter(generator)) or the python sum builtin instead.\n",
      "/Users/yatong_chen/anaconda3/lib/python3.7/site-packages/ipykernel_launcher.py:20: DeprecationWarning: Calling np.sum(generator) is deprecated, and in the future will give a different result. Use np.sum(np.from_iter(generator)) or the python sum builtin instead.\n",
      "/Users/yatong_chen/anaconda3/lib/python3.7/site-packages/ipykernel_launcher.py:45: DeprecationWarning: Calling np.sum(generator) is deprecated, and in the future will give a different result. Use np.sum(np.from_iter(generator)) or the python sum builtin instead.\n",
      "/Users/yatong_chen/anaconda3/lib/python3.7/site-packages/ipykernel_launcher.py:20: DeprecationWarning: Calling np.sum(generator) is deprecated, and in the future will give a different result. Use np.sum(np.from_iter(generator)) or the python sum builtin instead.\n",
      "/Users/yatong_chen/anaconda3/lib/python3.7/site-packages/ipykernel_launcher.py:45: DeprecationWarning: Calling np.sum(generator) is deprecated, and in the future will give a different result. Use np.sum(np.from_iter(generator)) or the python sum builtin instead.\n",
      "/Users/yatong_chen/anaconda3/lib/python3.7/site-packages/ipykernel_launcher.py:20: DeprecationWarning: Calling np.sum(generator) is deprecated, and in the future will give a different result. Use np.sum(np.from_iter(generator)) or the python sum builtin instead.\n",
      "/Users/yatong_chen/anaconda3/lib/python3.7/site-packages/ipykernel_launcher.py:45: DeprecationWarning: Calling np.sum(generator) is deprecated, and in the future will give a different result. Use np.sum(np.from_iter(generator)) or the python sum builtin instead.\n",
      "/Users/yatong_chen/anaconda3/lib/python3.7/site-packages/ipykernel_launcher.py:20: DeprecationWarning: Calling np.sum(generator) is deprecated, and in the future will give a different result. Use np.sum(np.from_iter(generator)) or the python sum builtin instead.\n",
      "/Users/yatong_chen/anaconda3/lib/python3.7/site-packages/ipykernel_launcher.py:45: DeprecationWarning: Calling np.sum(generator) is deprecated, and in the future will give a different result. Use np.sum(np.from_iter(generator)) or the python sum builtin instead.\n",
      "/Users/yatong_chen/anaconda3/lib/python3.7/site-packages/ipykernel_launcher.py:20: DeprecationWarning: Calling np.sum(generator) is deprecated, and in the future will give a different result. Use np.sum(np.from_iter(generator)) or the python sum builtin instead.\n",
      "/Users/yatong_chen/anaconda3/lib/python3.7/site-packages/ipykernel_launcher.py:45: DeprecationWarning: Calling np.sum(generator) is deprecated, and in the future will give a different result. Use np.sum(np.from_iter(generator)) or the python sum builtin instead.\n",
      "/Users/yatong_chen/anaconda3/lib/python3.7/site-packages/ipykernel_launcher.py:20: DeprecationWarning: Calling np.sum(generator) is deprecated, and in the future will give a different result. Use np.sum(np.from_iter(generator)) or the python sum builtin instead.\n",
      "/Users/yatong_chen/anaconda3/lib/python3.7/site-packages/ipykernel_launcher.py:45: DeprecationWarning: Calling np.sum(generator) is deprecated, and in the future will give a different result. Use np.sum(np.from_iter(generator)) or the python sum builtin instead.\n",
      "/Users/yatong_chen/anaconda3/lib/python3.7/site-packages/ipykernel_launcher.py:20: DeprecationWarning: Calling np.sum(generator) is deprecated, and in the future will give a different result. Use np.sum(np.from_iter(generator)) or the python sum builtin instead.\n",
      "/Users/yatong_chen/anaconda3/lib/python3.7/site-packages/ipykernel_launcher.py:45: DeprecationWarning: Calling np.sum(generator) is deprecated, and in the future will give a different result. Use np.sum(np.from_iter(generator)) or the python sum builtin instead.\n",
      "/Users/yatong_chen/anaconda3/lib/python3.7/site-packages/ipykernel_launcher.py:20: DeprecationWarning: Calling np.sum(generator) is deprecated, and in the future will give a different result. Use np.sum(np.from_iter(generator)) or the python sum builtin instead.\n",
      "/Users/yatong_chen/anaconda3/lib/python3.7/site-packages/ipykernel_launcher.py:45: DeprecationWarning: Calling np.sum(generator) is deprecated, and in the future will give a different result. Use np.sum(np.from_iter(generator)) or the python sum builtin instead.\n",
      "/Users/yatong_chen/anaconda3/lib/python3.7/site-packages/ipykernel_launcher.py:20: DeprecationWarning: Calling np.sum(generator) is deprecated, and in the future will give a different result. Use np.sum(np.from_iter(generator)) or the python sum builtin instead.\n",
      "/Users/yatong_chen/anaconda3/lib/python3.7/site-packages/ipykernel_launcher.py:45: DeprecationWarning: Calling np.sum(generator) is deprecated, and in the future will give a different result. Use np.sum(np.from_iter(generator)) or the python sum builtin instead.\n"
     ]
    },
    {
     "name": "stdout",
     "output_type": "stream",
     "text": [
      "0.6\n"
     ]
    },
    {
     "name": "stderr",
     "output_type": "stream",
     "text": [
      "/Users/yatong_chen/anaconda3/lib/python3.7/site-packages/ipykernel_launcher.py:20: DeprecationWarning: Calling np.sum(generator) is deprecated, and in the future will give a different result. Use np.sum(np.from_iter(generator)) or the python sum builtin instead.\n",
      "/Users/yatong_chen/anaconda3/lib/python3.7/site-packages/ipykernel_launcher.py:45: DeprecationWarning: Calling np.sum(generator) is deprecated, and in the future will give a different result. Use np.sum(np.from_iter(generator)) or the python sum builtin instead.\n",
      "/Users/yatong_chen/anaconda3/lib/python3.7/site-packages/ipykernel_launcher.py:20: DeprecationWarning: Calling np.sum(generator) is deprecated, and in the future will give a different result. Use np.sum(np.from_iter(generator)) or the python sum builtin instead.\n",
      "/Users/yatong_chen/anaconda3/lib/python3.7/site-packages/ipykernel_launcher.py:45: DeprecationWarning: Calling np.sum(generator) is deprecated, and in the future will give a different result. Use np.sum(np.from_iter(generator)) or the python sum builtin instead.\n",
      "/Users/yatong_chen/anaconda3/lib/python3.7/site-packages/ipykernel_launcher.py:20: DeprecationWarning: Calling np.sum(generator) is deprecated, and in the future will give a different result. Use np.sum(np.from_iter(generator)) or the python sum builtin instead.\n",
      "/Users/yatong_chen/anaconda3/lib/python3.7/site-packages/ipykernel_launcher.py:45: DeprecationWarning: Calling np.sum(generator) is deprecated, and in the future will give a different result. Use np.sum(np.from_iter(generator)) or the python sum builtin instead.\n",
      "/Users/yatong_chen/anaconda3/lib/python3.7/site-packages/ipykernel_launcher.py:20: DeprecationWarning: Calling np.sum(generator) is deprecated, and in the future will give a different result. Use np.sum(np.from_iter(generator)) or the python sum builtin instead.\n",
      "/Users/yatong_chen/anaconda3/lib/python3.7/site-packages/ipykernel_launcher.py:45: DeprecationWarning: Calling np.sum(generator) is deprecated, and in the future will give a different result. Use np.sum(np.from_iter(generator)) or the python sum builtin instead.\n",
      "/Users/yatong_chen/anaconda3/lib/python3.7/site-packages/ipykernel_launcher.py:20: DeprecationWarning: Calling np.sum(generator) is deprecated, and in the future will give a different result. Use np.sum(np.from_iter(generator)) or the python sum builtin instead.\n",
      "/Users/yatong_chen/anaconda3/lib/python3.7/site-packages/ipykernel_launcher.py:45: DeprecationWarning: Calling np.sum(generator) is deprecated, and in the future will give a different result. Use np.sum(np.from_iter(generator)) or the python sum builtin instead.\n",
      "/Users/yatong_chen/anaconda3/lib/python3.7/site-packages/ipykernel_launcher.py:20: DeprecationWarning: Calling np.sum(generator) is deprecated, and in the future will give a different result. Use np.sum(np.from_iter(generator)) or the python sum builtin instead.\n",
      "/Users/yatong_chen/anaconda3/lib/python3.7/site-packages/ipykernel_launcher.py:45: DeprecationWarning: Calling np.sum(generator) is deprecated, and in the future will give a different result. Use np.sum(np.from_iter(generator)) or the python sum builtin instead.\n",
      "/Users/yatong_chen/anaconda3/lib/python3.7/site-packages/ipykernel_launcher.py:20: DeprecationWarning: Calling np.sum(generator) is deprecated, and in the future will give a different result. Use np.sum(np.from_iter(generator)) or the python sum builtin instead.\n",
      "/Users/yatong_chen/anaconda3/lib/python3.7/site-packages/ipykernel_launcher.py:45: DeprecationWarning: Calling np.sum(generator) is deprecated, and in the future will give a different result. Use np.sum(np.from_iter(generator)) or the python sum builtin instead.\n",
      "/Users/yatong_chen/anaconda3/lib/python3.7/site-packages/ipykernel_launcher.py:20: DeprecationWarning: Calling np.sum(generator) is deprecated, and in the future will give a different result. Use np.sum(np.from_iter(generator)) or the python sum builtin instead.\n",
      "/Users/yatong_chen/anaconda3/lib/python3.7/site-packages/ipykernel_launcher.py:45: DeprecationWarning: Calling np.sum(generator) is deprecated, and in the future will give a different result. Use np.sum(np.from_iter(generator)) or the python sum builtin instead.\n",
      "/Users/yatong_chen/anaconda3/lib/python3.7/site-packages/ipykernel_launcher.py:20: DeprecationWarning: Calling np.sum(generator) is deprecated, and in the future will give a different result. Use np.sum(np.from_iter(generator)) or the python sum builtin instead.\n",
      "/Users/yatong_chen/anaconda3/lib/python3.7/site-packages/ipykernel_launcher.py:45: DeprecationWarning: Calling np.sum(generator) is deprecated, and in the future will give a different result. Use np.sum(np.from_iter(generator)) or the python sum builtin instead.\n",
      "/Users/yatong_chen/anaconda3/lib/python3.7/site-packages/ipykernel_launcher.py:20: DeprecationWarning: Calling np.sum(generator) is deprecated, and in the future will give a different result. Use np.sum(np.from_iter(generator)) or the python sum builtin instead.\n",
      "/Users/yatong_chen/anaconda3/lib/python3.7/site-packages/ipykernel_launcher.py:45: DeprecationWarning: Calling np.sum(generator) is deprecated, and in the future will give a different result. Use np.sum(np.from_iter(generator)) or the python sum builtin instead.\n"
     ]
    },
    {
     "name": "stdout",
     "output_type": "stream",
     "text": [
      "0.5\n"
     ]
    },
    {
     "name": "stderr",
     "output_type": "stream",
     "text": [
      "/Users/yatong_chen/anaconda3/lib/python3.7/site-packages/ipykernel_launcher.py:20: DeprecationWarning: Calling np.sum(generator) is deprecated, and in the future will give a different result. Use np.sum(np.from_iter(generator)) or the python sum builtin instead.\n",
      "/Users/yatong_chen/anaconda3/lib/python3.7/site-packages/ipykernel_launcher.py:45: DeprecationWarning: Calling np.sum(generator) is deprecated, and in the future will give a different result. Use np.sum(np.from_iter(generator)) or the python sum builtin instead.\n",
      "/Users/yatong_chen/anaconda3/lib/python3.7/site-packages/ipykernel_launcher.py:20: DeprecationWarning: Calling np.sum(generator) is deprecated, and in the future will give a different result. Use np.sum(np.from_iter(generator)) or the python sum builtin instead.\n",
      "/Users/yatong_chen/anaconda3/lib/python3.7/site-packages/ipykernel_launcher.py:45: DeprecationWarning: Calling np.sum(generator) is deprecated, and in the future will give a different result. Use np.sum(np.from_iter(generator)) or the python sum builtin instead.\n",
      "/Users/yatong_chen/anaconda3/lib/python3.7/site-packages/ipykernel_launcher.py:20: DeprecationWarning: Calling np.sum(generator) is deprecated, and in the future will give a different result. Use np.sum(np.from_iter(generator)) or the python sum builtin instead.\n",
      "/Users/yatong_chen/anaconda3/lib/python3.7/site-packages/ipykernel_launcher.py:45: DeprecationWarning: Calling np.sum(generator) is deprecated, and in the future will give a different result. Use np.sum(np.from_iter(generator)) or the python sum builtin instead.\n",
      "/Users/yatong_chen/anaconda3/lib/python3.7/site-packages/ipykernel_launcher.py:20: DeprecationWarning: Calling np.sum(generator) is deprecated, and in the future will give a different result. Use np.sum(np.from_iter(generator)) or the python sum builtin instead.\n",
      "/Users/yatong_chen/anaconda3/lib/python3.7/site-packages/ipykernel_launcher.py:45: DeprecationWarning: Calling np.sum(generator) is deprecated, and in the future will give a different result. Use np.sum(np.from_iter(generator)) or the python sum builtin instead.\n",
      "/Users/yatong_chen/anaconda3/lib/python3.7/site-packages/ipykernel_launcher.py:20: DeprecationWarning: Calling np.sum(generator) is deprecated, and in the future will give a different result. Use np.sum(np.from_iter(generator)) or the python sum builtin instead.\n",
      "/Users/yatong_chen/anaconda3/lib/python3.7/site-packages/ipykernel_launcher.py:45: DeprecationWarning: Calling np.sum(generator) is deprecated, and in the future will give a different result. Use np.sum(np.from_iter(generator)) or the python sum builtin instead.\n",
      "/Users/yatong_chen/anaconda3/lib/python3.7/site-packages/ipykernel_launcher.py:20: DeprecationWarning: Calling np.sum(generator) is deprecated, and in the future will give a different result. Use np.sum(np.from_iter(generator)) or the python sum builtin instead.\n",
      "/Users/yatong_chen/anaconda3/lib/python3.7/site-packages/ipykernel_launcher.py:45: DeprecationWarning: Calling np.sum(generator) is deprecated, and in the future will give a different result. Use np.sum(np.from_iter(generator)) or the python sum builtin instead.\n",
      "/Users/yatong_chen/anaconda3/lib/python3.7/site-packages/ipykernel_launcher.py:20: DeprecationWarning: Calling np.sum(generator) is deprecated, and in the future will give a different result. Use np.sum(np.from_iter(generator)) or the python sum builtin instead.\n",
      "/Users/yatong_chen/anaconda3/lib/python3.7/site-packages/ipykernel_launcher.py:45: DeprecationWarning: Calling np.sum(generator) is deprecated, and in the future will give a different result. Use np.sum(np.from_iter(generator)) or the python sum builtin instead.\n",
      "/Users/yatong_chen/anaconda3/lib/python3.7/site-packages/ipykernel_launcher.py:20: DeprecationWarning: Calling np.sum(generator) is deprecated, and in the future will give a different result. Use np.sum(np.from_iter(generator)) or the python sum builtin instead.\n",
      "/Users/yatong_chen/anaconda3/lib/python3.7/site-packages/ipykernel_launcher.py:45: DeprecationWarning: Calling np.sum(generator) is deprecated, and in the future will give a different result. Use np.sum(np.from_iter(generator)) or the python sum builtin instead.\n",
      "/Users/yatong_chen/anaconda3/lib/python3.7/site-packages/ipykernel_launcher.py:20: DeprecationWarning: Calling np.sum(generator) is deprecated, and in the future will give a different result. Use np.sum(np.from_iter(generator)) or the python sum builtin instead.\n",
      "/Users/yatong_chen/anaconda3/lib/python3.7/site-packages/ipykernel_launcher.py:45: DeprecationWarning: Calling np.sum(generator) is deprecated, and in the future will give a different result. Use np.sum(np.from_iter(generator)) or the python sum builtin instead.\n",
      "/Users/yatong_chen/anaconda3/lib/python3.7/site-packages/ipykernel_launcher.py:20: DeprecationWarning: Calling np.sum(generator) is deprecated, and in the future will give a different result. Use np.sum(np.from_iter(generator)) or the python sum builtin instead.\n",
      "/Users/yatong_chen/anaconda3/lib/python3.7/site-packages/ipykernel_launcher.py:45: DeprecationWarning: Calling np.sum(generator) is deprecated, and in the future will give a different result. Use np.sum(np.from_iter(generator)) or the python sum builtin instead.\n"
     ]
    },
    {
     "name": "stdout",
     "output_type": "stream",
     "text": [
      "0.4\n"
     ]
    },
    {
     "name": "stderr",
     "output_type": "stream",
     "text": [
      "/Users/yatong_chen/anaconda3/lib/python3.7/site-packages/ipykernel_launcher.py:20: DeprecationWarning: Calling np.sum(generator) is deprecated, and in the future will give a different result. Use np.sum(np.from_iter(generator)) or the python sum builtin instead.\n",
      "/Users/yatong_chen/anaconda3/lib/python3.7/site-packages/ipykernel_launcher.py:45: DeprecationWarning: Calling np.sum(generator) is deprecated, and in the future will give a different result. Use np.sum(np.from_iter(generator)) or the python sum builtin instead.\n",
      "/Users/yatong_chen/anaconda3/lib/python3.7/site-packages/ipykernel_launcher.py:20: DeprecationWarning: Calling np.sum(generator) is deprecated, and in the future will give a different result. Use np.sum(np.from_iter(generator)) or the python sum builtin instead.\n",
      "/Users/yatong_chen/anaconda3/lib/python3.7/site-packages/ipykernel_launcher.py:45: DeprecationWarning: Calling np.sum(generator) is deprecated, and in the future will give a different result. Use np.sum(np.from_iter(generator)) or the python sum builtin instead.\n",
      "/Users/yatong_chen/anaconda3/lib/python3.7/site-packages/ipykernel_launcher.py:20: DeprecationWarning: Calling np.sum(generator) is deprecated, and in the future will give a different result. Use np.sum(np.from_iter(generator)) or the python sum builtin instead.\n",
      "/Users/yatong_chen/anaconda3/lib/python3.7/site-packages/ipykernel_launcher.py:45: DeprecationWarning: Calling np.sum(generator) is deprecated, and in the future will give a different result. Use np.sum(np.from_iter(generator)) or the python sum builtin instead.\n",
      "/Users/yatong_chen/anaconda3/lib/python3.7/site-packages/ipykernel_launcher.py:20: DeprecationWarning: Calling np.sum(generator) is deprecated, and in the future will give a different result. Use np.sum(np.from_iter(generator)) or the python sum builtin instead.\n",
      "/Users/yatong_chen/anaconda3/lib/python3.7/site-packages/ipykernel_launcher.py:45: DeprecationWarning: Calling np.sum(generator) is deprecated, and in the future will give a different result. Use np.sum(np.from_iter(generator)) or the python sum builtin instead.\n",
      "/Users/yatong_chen/anaconda3/lib/python3.7/site-packages/ipykernel_launcher.py:20: DeprecationWarning: Calling np.sum(generator) is deprecated, and in the future will give a different result. Use np.sum(np.from_iter(generator)) or the python sum builtin instead.\n",
      "/Users/yatong_chen/anaconda3/lib/python3.7/site-packages/ipykernel_launcher.py:45: DeprecationWarning: Calling np.sum(generator) is deprecated, and in the future will give a different result. Use np.sum(np.from_iter(generator)) or the python sum builtin instead.\n",
      "/Users/yatong_chen/anaconda3/lib/python3.7/site-packages/ipykernel_launcher.py:20: DeprecationWarning: Calling np.sum(generator) is deprecated, and in the future will give a different result. Use np.sum(np.from_iter(generator)) or the python sum builtin instead.\n",
      "/Users/yatong_chen/anaconda3/lib/python3.7/site-packages/ipykernel_launcher.py:45: DeprecationWarning: Calling np.sum(generator) is deprecated, and in the future will give a different result. Use np.sum(np.from_iter(generator)) or the python sum builtin instead.\n",
      "/Users/yatong_chen/anaconda3/lib/python3.7/site-packages/ipykernel_launcher.py:20: DeprecationWarning: Calling np.sum(generator) is deprecated, and in the future will give a different result. Use np.sum(np.from_iter(generator)) or the python sum builtin instead.\n",
      "/Users/yatong_chen/anaconda3/lib/python3.7/site-packages/ipykernel_launcher.py:45: DeprecationWarning: Calling np.sum(generator) is deprecated, and in the future will give a different result. Use np.sum(np.from_iter(generator)) or the python sum builtin instead.\n",
      "/Users/yatong_chen/anaconda3/lib/python3.7/site-packages/ipykernel_launcher.py:20: DeprecationWarning: Calling np.sum(generator) is deprecated, and in the future will give a different result. Use np.sum(np.from_iter(generator)) or the python sum builtin instead.\n",
      "/Users/yatong_chen/anaconda3/lib/python3.7/site-packages/ipykernel_launcher.py:45: DeprecationWarning: Calling np.sum(generator) is deprecated, and in the future will give a different result. Use np.sum(np.from_iter(generator)) or the python sum builtin instead.\n",
      "/Users/yatong_chen/anaconda3/lib/python3.7/site-packages/ipykernel_launcher.py:20: DeprecationWarning: Calling np.sum(generator) is deprecated, and in the future will give a different result. Use np.sum(np.from_iter(generator)) or the python sum builtin instead.\n",
      "/Users/yatong_chen/anaconda3/lib/python3.7/site-packages/ipykernel_launcher.py:45: DeprecationWarning: Calling np.sum(generator) is deprecated, and in the future will give a different result. Use np.sum(np.from_iter(generator)) or the python sum builtin instead.\n",
      "/Users/yatong_chen/anaconda3/lib/python3.7/site-packages/ipykernel_launcher.py:20: DeprecationWarning: Calling np.sum(generator) is deprecated, and in the future will give a different result. Use np.sum(np.from_iter(generator)) or the python sum builtin instead.\n",
      "/Users/yatong_chen/anaconda3/lib/python3.7/site-packages/ipykernel_launcher.py:45: DeprecationWarning: Calling np.sum(generator) is deprecated, and in the future will give a different result. Use np.sum(np.from_iter(generator)) or the python sum builtin instead.\n"
     ]
    },
    {
     "name": "stdout",
     "output_type": "stream",
     "text": [
      "0.3\n"
     ]
    },
    {
     "name": "stderr",
     "output_type": "stream",
     "text": [
      "/Users/yatong_chen/anaconda3/lib/python3.7/site-packages/ipykernel_launcher.py:20: DeprecationWarning: Calling np.sum(generator) is deprecated, and in the future will give a different result. Use np.sum(np.from_iter(generator)) or the python sum builtin instead.\n",
      "/Users/yatong_chen/anaconda3/lib/python3.7/site-packages/ipykernel_launcher.py:45: DeprecationWarning: Calling np.sum(generator) is deprecated, and in the future will give a different result. Use np.sum(np.from_iter(generator)) or the python sum builtin instead.\n",
      "/Users/yatong_chen/anaconda3/lib/python3.7/site-packages/ipykernel_launcher.py:20: DeprecationWarning: Calling np.sum(generator) is deprecated, and in the future will give a different result. Use np.sum(np.from_iter(generator)) or the python sum builtin instead.\n",
      "/Users/yatong_chen/anaconda3/lib/python3.7/site-packages/ipykernel_launcher.py:45: DeprecationWarning: Calling np.sum(generator) is deprecated, and in the future will give a different result. Use np.sum(np.from_iter(generator)) or the python sum builtin instead.\n",
      "/Users/yatong_chen/anaconda3/lib/python3.7/site-packages/ipykernel_launcher.py:20: DeprecationWarning: Calling np.sum(generator) is deprecated, and in the future will give a different result. Use np.sum(np.from_iter(generator)) or the python sum builtin instead.\n",
      "/Users/yatong_chen/anaconda3/lib/python3.7/site-packages/ipykernel_launcher.py:45: DeprecationWarning: Calling np.sum(generator) is deprecated, and in the future will give a different result. Use np.sum(np.from_iter(generator)) or the python sum builtin instead.\n",
      "/Users/yatong_chen/anaconda3/lib/python3.7/site-packages/ipykernel_launcher.py:20: DeprecationWarning: Calling np.sum(generator) is deprecated, and in the future will give a different result. Use np.sum(np.from_iter(generator)) or the python sum builtin instead.\n",
      "/Users/yatong_chen/anaconda3/lib/python3.7/site-packages/ipykernel_launcher.py:45: DeprecationWarning: Calling np.sum(generator) is deprecated, and in the future will give a different result. Use np.sum(np.from_iter(generator)) or the python sum builtin instead.\n",
      "/Users/yatong_chen/anaconda3/lib/python3.7/site-packages/ipykernel_launcher.py:20: DeprecationWarning: Calling np.sum(generator) is deprecated, and in the future will give a different result. Use np.sum(np.from_iter(generator)) or the python sum builtin instead.\n",
      "/Users/yatong_chen/anaconda3/lib/python3.7/site-packages/ipykernel_launcher.py:45: DeprecationWarning: Calling np.sum(generator) is deprecated, and in the future will give a different result. Use np.sum(np.from_iter(generator)) or the python sum builtin instead.\n",
      "/Users/yatong_chen/anaconda3/lib/python3.7/site-packages/ipykernel_launcher.py:20: DeprecationWarning: Calling np.sum(generator) is deprecated, and in the future will give a different result. Use np.sum(np.from_iter(generator)) or the python sum builtin instead.\n",
      "/Users/yatong_chen/anaconda3/lib/python3.7/site-packages/ipykernel_launcher.py:45: DeprecationWarning: Calling np.sum(generator) is deprecated, and in the future will give a different result. Use np.sum(np.from_iter(generator)) or the python sum builtin instead.\n",
      "/Users/yatong_chen/anaconda3/lib/python3.7/site-packages/ipykernel_launcher.py:20: DeprecationWarning: Calling np.sum(generator) is deprecated, and in the future will give a different result. Use np.sum(np.from_iter(generator)) or the python sum builtin instead.\n",
      "/Users/yatong_chen/anaconda3/lib/python3.7/site-packages/ipykernel_launcher.py:45: DeprecationWarning: Calling np.sum(generator) is deprecated, and in the future will give a different result. Use np.sum(np.from_iter(generator)) or the python sum builtin instead.\n",
      "/Users/yatong_chen/anaconda3/lib/python3.7/site-packages/ipykernel_launcher.py:20: DeprecationWarning: Calling np.sum(generator) is deprecated, and in the future will give a different result. Use np.sum(np.from_iter(generator)) or the python sum builtin instead.\n",
      "/Users/yatong_chen/anaconda3/lib/python3.7/site-packages/ipykernel_launcher.py:45: DeprecationWarning: Calling np.sum(generator) is deprecated, and in the future will give a different result. Use np.sum(np.from_iter(generator)) or the python sum builtin instead.\n",
      "/Users/yatong_chen/anaconda3/lib/python3.7/site-packages/ipykernel_launcher.py:20: DeprecationWarning: Calling np.sum(generator) is deprecated, and in the future will give a different result. Use np.sum(np.from_iter(generator)) or the python sum builtin instead.\n",
      "/Users/yatong_chen/anaconda3/lib/python3.7/site-packages/ipykernel_launcher.py:45: DeprecationWarning: Calling np.sum(generator) is deprecated, and in the future will give a different result. Use np.sum(np.from_iter(generator)) or the python sum builtin instead.\n",
      "/Users/yatong_chen/anaconda3/lib/python3.7/site-packages/ipykernel_launcher.py:20: DeprecationWarning: Calling np.sum(generator) is deprecated, and in the future will give a different result. Use np.sum(np.from_iter(generator)) or the python sum builtin instead.\n",
      "/Users/yatong_chen/anaconda3/lib/python3.7/site-packages/ipykernel_launcher.py:45: DeprecationWarning: Calling np.sum(generator) is deprecated, and in the future will give a different result. Use np.sum(np.from_iter(generator)) or the python sum builtin instead.\n"
     ]
    },
    {
     "name": "stdout",
     "output_type": "stream",
     "text": [
      "0.2\n"
     ]
    },
    {
     "name": "stderr",
     "output_type": "stream",
     "text": [
      "/Users/yatong_chen/anaconda3/lib/python3.7/site-packages/ipykernel_launcher.py:20: DeprecationWarning: Calling np.sum(generator) is deprecated, and in the future will give a different result. Use np.sum(np.from_iter(generator)) or the python sum builtin instead.\n",
      "/Users/yatong_chen/anaconda3/lib/python3.7/site-packages/ipykernel_launcher.py:45: DeprecationWarning: Calling np.sum(generator) is deprecated, and in the future will give a different result. Use np.sum(np.from_iter(generator)) or the python sum builtin instead.\n",
      "/Users/yatong_chen/anaconda3/lib/python3.7/site-packages/ipykernel_launcher.py:20: DeprecationWarning: Calling np.sum(generator) is deprecated, and in the future will give a different result. Use np.sum(np.from_iter(generator)) or the python sum builtin instead.\n",
      "/Users/yatong_chen/anaconda3/lib/python3.7/site-packages/ipykernel_launcher.py:45: DeprecationWarning: Calling np.sum(generator) is deprecated, and in the future will give a different result. Use np.sum(np.from_iter(generator)) or the python sum builtin instead.\n",
      "/Users/yatong_chen/anaconda3/lib/python3.7/site-packages/ipykernel_launcher.py:20: DeprecationWarning: Calling np.sum(generator) is deprecated, and in the future will give a different result. Use np.sum(np.from_iter(generator)) or the python sum builtin instead.\n",
      "/Users/yatong_chen/anaconda3/lib/python3.7/site-packages/ipykernel_launcher.py:45: DeprecationWarning: Calling np.sum(generator) is deprecated, and in the future will give a different result. Use np.sum(np.from_iter(generator)) or the python sum builtin instead.\n",
      "/Users/yatong_chen/anaconda3/lib/python3.7/site-packages/ipykernel_launcher.py:20: DeprecationWarning: Calling np.sum(generator) is deprecated, and in the future will give a different result. Use np.sum(np.from_iter(generator)) or the python sum builtin instead.\n",
      "/Users/yatong_chen/anaconda3/lib/python3.7/site-packages/ipykernel_launcher.py:45: DeprecationWarning: Calling np.sum(generator) is deprecated, and in the future will give a different result. Use np.sum(np.from_iter(generator)) or the python sum builtin instead.\n",
      "/Users/yatong_chen/anaconda3/lib/python3.7/site-packages/ipykernel_launcher.py:20: DeprecationWarning: Calling np.sum(generator) is deprecated, and in the future will give a different result. Use np.sum(np.from_iter(generator)) or the python sum builtin instead.\n",
      "/Users/yatong_chen/anaconda3/lib/python3.7/site-packages/ipykernel_launcher.py:45: DeprecationWarning: Calling np.sum(generator) is deprecated, and in the future will give a different result. Use np.sum(np.from_iter(generator)) or the python sum builtin instead.\n",
      "/Users/yatong_chen/anaconda3/lib/python3.7/site-packages/ipykernel_launcher.py:20: DeprecationWarning: Calling np.sum(generator) is deprecated, and in the future will give a different result. Use np.sum(np.from_iter(generator)) or the python sum builtin instead.\n",
      "/Users/yatong_chen/anaconda3/lib/python3.7/site-packages/ipykernel_launcher.py:45: DeprecationWarning: Calling np.sum(generator) is deprecated, and in the future will give a different result. Use np.sum(np.from_iter(generator)) or the python sum builtin instead.\n",
      "/Users/yatong_chen/anaconda3/lib/python3.7/site-packages/ipykernel_launcher.py:20: DeprecationWarning: Calling np.sum(generator) is deprecated, and in the future will give a different result. Use np.sum(np.from_iter(generator)) or the python sum builtin instead.\n",
      "/Users/yatong_chen/anaconda3/lib/python3.7/site-packages/ipykernel_launcher.py:45: DeprecationWarning: Calling np.sum(generator) is deprecated, and in the future will give a different result. Use np.sum(np.from_iter(generator)) or the python sum builtin instead.\n",
      "/Users/yatong_chen/anaconda3/lib/python3.7/site-packages/ipykernel_launcher.py:20: DeprecationWarning: Calling np.sum(generator) is deprecated, and in the future will give a different result. Use np.sum(np.from_iter(generator)) or the python sum builtin instead.\n",
      "/Users/yatong_chen/anaconda3/lib/python3.7/site-packages/ipykernel_launcher.py:45: DeprecationWarning: Calling np.sum(generator) is deprecated, and in the future will give a different result. Use np.sum(np.from_iter(generator)) or the python sum builtin instead.\n",
      "/Users/yatong_chen/anaconda3/lib/python3.7/site-packages/ipykernel_launcher.py:20: DeprecationWarning: Calling np.sum(generator) is deprecated, and in the future will give a different result. Use np.sum(np.from_iter(generator)) or the python sum builtin instead.\n",
      "/Users/yatong_chen/anaconda3/lib/python3.7/site-packages/ipykernel_launcher.py:45: DeprecationWarning: Calling np.sum(generator) is deprecated, and in the future will give a different result. Use np.sum(np.from_iter(generator)) or the python sum builtin instead.\n",
      "/Users/yatong_chen/anaconda3/lib/python3.7/site-packages/ipykernel_launcher.py:20: DeprecationWarning: Calling np.sum(generator) is deprecated, and in the future will give a different result. Use np.sum(np.from_iter(generator)) or the python sum builtin instead.\n",
      "/Users/yatong_chen/anaconda3/lib/python3.7/site-packages/ipykernel_launcher.py:45: DeprecationWarning: Calling np.sum(generator) is deprecated, and in the future will give a different result. Use np.sum(np.from_iter(generator)) or the python sum builtin instead.\n"
     ]
    },
    {
     "name": "stdout",
     "output_type": "stream",
     "text": [
      "0.1\n"
     ]
    },
    {
     "name": "stderr",
     "output_type": "stream",
     "text": [
      "/Users/yatong_chen/anaconda3/lib/python3.7/site-packages/ipykernel_launcher.py:20: DeprecationWarning: Calling np.sum(generator) is deprecated, and in the future will give a different result. Use np.sum(np.from_iter(generator)) or the python sum builtin instead.\n",
      "/Users/yatong_chen/anaconda3/lib/python3.7/site-packages/ipykernel_launcher.py:45: DeprecationWarning: Calling np.sum(generator) is deprecated, and in the future will give a different result. Use np.sum(np.from_iter(generator)) or the python sum builtin instead.\n",
      "/Users/yatong_chen/anaconda3/lib/python3.7/site-packages/ipykernel_launcher.py:20: DeprecationWarning: Calling np.sum(generator) is deprecated, and in the future will give a different result. Use np.sum(np.from_iter(generator)) or the python sum builtin instead.\n",
      "/Users/yatong_chen/anaconda3/lib/python3.7/site-packages/ipykernel_launcher.py:45: DeprecationWarning: Calling np.sum(generator) is deprecated, and in the future will give a different result. Use np.sum(np.from_iter(generator)) or the python sum builtin instead.\n",
      "/Users/yatong_chen/anaconda3/lib/python3.7/site-packages/ipykernel_launcher.py:20: DeprecationWarning: Calling np.sum(generator) is deprecated, and in the future will give a different result. Use np.sum(np.from_iter(generator)) or the python sum builtin instead.\n",
      "/Users/yatong_chen/anaconda3/lib/python3.7/site-packages/ipykernel_launcher.py:45: DeprecationWarning: Calling np.sum(generator) is deprecated, and in the future will give a different result. Use np.sum(np.from_iter(generator)) or the python sum builtin instead.\n",
      "/Users/yatong_chen/anaconda3/lib/python3.7/site-packages/ipykernel_launcher.py:20: DeprecationWarning: Calling np.sum(generator) is deprecated, and in the future will give a different result. Use np.sum(np.from_iter(generator)) or the python sum builtin instead.\n",
      "/Users/yatong_chen/anaconda3/lib/python3.7/site-packages/ipykernel_launcher.py:45: DeprecationWarning: Calling np.sum(generator) is deprecated, and in the future will give a different result. Use np.sum(np.from_iter(generator)) or the python sum builtin instead.\n",
      "/Users/yatong_chen/anaconda3/lib/python3.7/site-packages/ipykernel_launcher.py:20: DeprecationWarning: Calling np.sum(generator) is deprecated, and in the future will give a different result. Use np.sum(np.from_iter(generator)) or the python sum builtin instead.\n",
      "/Users/yatong_chen/anaconda3/lib/python3.7/site-packages/ipykernel_launcher.py:45: DeprecationWarning: Calling np.sum(generator) is deprecated, and in the future will give a different result. Use np.sum(np.from_iter(generator)) or the python sum builtin instead.\n",
      "/Users/yatong_chen/anaconda3/lib/python3.7/site-packages/ipykernel_launcher.py:20: DeprecationWarning: Calling np.sum(generator) is deprecated, and in the future will give a different result. Use np.sum(np.from_iter(generator)) or the python sum builtin instead.\n",
      "/Users/yatong_chen/anaconda3/lib/python3.7/site-packages/ipykernel_launcher.py:45: DeprecationWarning: Calling np.sum(generator) is deprecated, and in the future will give a different result. Use np.sum(np.from_iter(generator)) or the python sum builtin instead.\n",
      "/Users/yatong_chen/anaconda3/lib/python3.7/site-packages/ipykernel_launcher.py:20: DeprecationWarning: Calling np.sum(generator) is deprecated, and in the future will give a different result. Use np.sum(np.from_iter(generator)) or the python sum builtin instead.\n",
      "/Users/yatong_chen/anaconda3/lib/python3.7/site-packages/ipykernel_launcher.py:45: DeprecationWarning: Calling np.sum(generator) is deprecated, and in the future will give a different result. Use np.sum(np.from_iter(generator)) or the python sum builtin instead.\n",
      "/Users/yatong_chen/anaconda3/lib/python3.7/site-packages/ipykernel_launcher.py:20: DeprecationWarning: Calling np.sum(generator) is deprecated, and in the future will give a different result. Use np.sum(np.from_iter(generator)) or the python sum builtin instead.\n",
      "/Users/yatong_chen/anaconda3/lib/python3.7/site-packages/ipykernel_launcher.py:45: DeprecationWarning: Calling np.sum(generator) is deprecated, and in the future will give a different result. Use np.sum(np.from_iter(generator)) or the python sum builtin instead.\n",
      "/Users/yatong_chen/anaconda3/lib/python3.7/site-packages/ipykernel_launcher.py:20: DeprecationWarning: Calling np.sum(generator) is deprecated, and in the future will give a different result. Use np.sum(np.from_iter(generator)) or the python sum builtin instead.\n",
      "/Users/yatong_chen/anaconda3/lib/python3.7/site-packages/ipykernel_launcher.py:45: DeprecationWarning: Calling np.sum(generator) is deprecated, and in the future will give a different result. Use np.sum(np.from_iter(generator)) or the python sum builtin instead.\n",
      "/Users/yatong_chen/anaconda3/lib/python3.7/site-packages/ipykernel_launcher.py:20: DeprecationWarning: Calling np.sum(generator) is deprecated, and in the future will give a different result. Use np.sum(np.from_iter(generator)) or the python sum builtin instead.\n",
      "/Users/yatong_chen/anaconda3/lib/python3.7/site-packages/ipykernel_launcher.py:45: DeprecationWarning: Calling np.sum(generator) is deprecated, and in the future will give a different result. Use np.sum(np.from_iter(generator)) or the python sum builtin instead.\n"
     ]
    },
    {
     "name": "stdout",
     "output_type": "stream",
     "text": [
      "0.05\n"
     ]
    },
    {
     "name": "stderr",
     "output_type": "stream",
     "text": [
      "/Users/yatong_chen/anaconda3/lib/python3.7/site-packages/ipykernel_launcher.py:20: DeprecationWarning: Calling np.sum(generator) is deprecated, and in the future will give a different result. Use np.sum(np.from_iter(generator)) or the python sum builtin instead.\n",
      "/Users/yatong_chen/anaconda3/lib/python3.7/site-packages/ipykernel_launcher.py:45: DeprecationWarning: Calling np.sum(generator) is deprecated, and in the future will give a different result. Use np.sum(np.from_iter(generator)) or the python sum builtin instead.\n",
      "/Users/yatong_chen/anaconda3/lib/python3.7/site-packages/ipykernel_launcher.py:20: DeprecationWarning: Calling np.sum(generator) is deprecated, and in the future will give a different result. Use np.sum(np.from_iter(generator)) or the python sum builtin instead.\n",
      "/Users/yatong_chen/anaconda3/lib/python3.7/site-packages/ipykernel_launcher.py:45: DeprecationWarning: Calling np.sum(generator) is deprecated, and in the future will give a different result. Use np.sum(np.from_iter(generator)) or the python sum builtin instead.\n",
      "/Users/yatong_chen/anaconda3/lib/python3.7/site-packages/ipykernel_launcher.py:20: DeprecationWarning: Calling np.sum(generator) is deprecated, and in the future will give a different result. Use np.sum(np.from_iter(generator)) or the python sum builtin instead.\n",
      "/Users/yatong_chen/anaconda3/lib/python3.7/site-packages/ipykernel_launcher.py:45: DeprecationWarning: Calling np.sum(generator) is deprecated, and in the future will give a different result. Use np.sum(np.from_iter(generator)) or the python sum builtin instead.\n",
      "/Users/yatong_chen/anaconda3/lib/python3.7/site-packages/ipykernel_launcher.py:20: DeprecationWarning: Calling np.sum(generator) is deprecated, and in the future will give a different result. Use np.sum(np.from_iter(generator)) or the python sum builtin instead.\n",
      "/Users/yatong_chen/anaconda3/lib/python3.7/site-packages/ipykernel_launcher.py:45: DeprecationWarning: Calling np.sum(generator) is deprecated, and in the future will give a different result. Use np.sum(np.from_iter(generator)) or the python sum builtin instead.\n",
      "/Users/yatong_chen/anaconda3/lib/python3.7/site-packages/ipykernel_launcher.py:20: DeprecationWarning: Calling np.sum(generator) is deprecated, and in the future will give a different result. Use np.sum(np.from_iter(generator)) or the python sum builtin instead.\n",
      "/Users/yatong_chen/anaconda3/lib/python3.7/site-packages/ipykernel_launcher.py:45: DeprecationWarning: Calling np.sum(generator) is deprecated, and in the future will give a different result. Use np.sum(np.from_iter(generator)) or the python sum builtin instead.\n",
      "/Users/yatong_chen/anaconda3/lib/python3.7/site-packages/ipykernel_launcher.py:20: DeprecationWarning: Calling np.sum(generator) is deprecated, and in the future will give a different result. Use np.sum(np.from_iter(generator)) or the python sum builtin instead.\n",
      "/Users/yatong_chen/anaconda3/lib/python3.7/site-packages/ipykernel_launcher.py:45: DeprecationWarning: Calling np.sum(generator) is deprecated, and in the future will give a different result. Use np.sum(np.from_iter(generator)) or the python sum builtin instead.\n",
      "/Users/yatong_chen/anaconda3/lib/python3.7/site-packages/ipykernel_launcher.py:20: DeprecationWarning: Calling np.sum(generator) is deprecated, and in the future will give a different result. Use np.sum(np.from_iter(generator)) or the python sum builtin instead.\n",
      "/Users/yatong_chen/anaconda3/lib/python3.7/site-packages/ipykernel_launcher.py:45: DeprecationWarning: Calling np.sum(generator) is deprecated, and in the future will give a different result. Use np.sum(np.from_iter(generator)) or the python sum builtin instead.\n",
      "/Users/yatong_chen/anaconda3/lib/python3.7/site-packages/ipykernel_launcher.py:20: DeprecationWarning: Calling np.sum(generator) is deprecated, and in the future will give a different result. Use np.sum(np.from_iter(generator)) or the python sum builtin instead.\n",
      "/Users/yatong_chen/anaconda3/lib/python3.7/site-packages/ipykernel_launcher.py:45: DeprecationWarning: Calling np.sum(generator) is deprecated, and in the future will give a different result. Use np.sum(np.from_iter(generator)) or the python sum builtin instead.\n",
      "/Users/yatong_chen/anaconda3/lib/python3.7/site-packages/ipykernel_launcher.py:20: DeprecationWarning: Calling np.sum(generator) is deprecated, and in the future will give a different result. Use np.sum(np.from_iter(generator)) or the python sum builtin instead.\n",
      "/Users/yatong_chen/anaconda3/lib/python3.7/site-packages/ipykernel_launcher.py:45: DeprecationWarning: Calling np.sum(generator) is deprecated, and in the future will give a different result. Use np.sum(np.from_iter(generator)) or the python sum builtin instead.\n",
      "/Users/yatong_chen/anaconda3/lib/python3.7/site-packages/ipykernel_launcher.py:20: DeprecationWarning: Calling np.sum(generator) is deprecated, and in the future will give a different result. Use np.sum(np.from_iter(generator)) or the python sum builtin instead.\n",
      "/Users/yatong_chen/anaconda3/lib/python3.7/site-packages/ipykernel_launcher.py:45: DeprecationWarning: Calling np.sum(generator) is deprecated, and in the future will give a different result. Use np.sum(np.from_iter(generator)) or the python sum builtin instead.\n"
     ]
    }
   ],
   "source": [
    "# 1-hop and 2-hop initialization \n",
    "A = nx.adjacency_matrix(graph)\n",
    "adj_matrix_gender = np.matrix(A.todense())\n",
    "\n",
    "n = len(gender_y)\n",
    "keys = list(graph.node)\n",
    "\n",
    "\n",
    "# see how many classes are there and rearrange them\n",
    "classes = np.sort(np.unique(gender_y))\n",
    "class_labels = np.array(range(len(classes)))\n",
    "\n",
    "\n",
    "# relabel membership class labels - for coding convenience\n",
    "# preserve ordering of original class labels -- but force to be in sequential order now\n",
    "gender_y_update = np.copy(gender_y)\n",
    "for j in range(len(classes)):\n",
    "    gender_y_update[gender_y_update == classes[j]] = class_labels[j]\n",
    "\n",
    "gender_y_update = np.array(gender_y_update)\n",
    "\n",
    "mean_accuracy_one = []\n",
    "se_accuracy_one = []\n",
    "\n",
    "mean_micro_auc_one = []\n",
    "se_micro_auc_one = []\n",
    "\n",
    "mean_wt_auc_one = []\n",
    "se_wt_auc_one = []\n",
    "\n",
    "\n",
    "\n",
    "mean_accuracy_two = []\n",
    "se_accuracy_two = []\n",
    "\n",
    "mean_micro_auc_two = []\n",
    "se_micro_auc_two = []\n",
    "\n",
    "mean_wt_auc_two = []\n",
    "se_wt_auc_two = []\n",
    "\n",
    "\n",
    "\n",
    "for i in range(len(percent_initially_labelled)):\n",
    "    print(percent_initially_unlabelled[i]) \n",
    "    (graph_new, gender_y_new)  = create_graph(adj_matrix_tmp,gender_dict,'gender',0,None,'yes')\n",
    "    adj_matrix_gender = np.array(nx.adjacency_matrix(graph_new).todense()) \n",
    "   \n",
    "    \n",
    "    gender_dict_input = create_dict(range(len(gender_y_new)), gender_y_new)\n",
    "    \n",
    "    (graph_input, gender_y_input)  = create_graph(adj_matrix_gender,gender_dict_input,'gender',5,None,'yes')\n",
    "    \n",
    "   \n",
    "    keys = list(graph_input.node())\n",
    "\n",
    "\n",
    "    bench_mark = np.mean(np.array(gender_y_input) == np.max(class_labels))\n",
    "\n",
    "    if cv_setup=='stratified':\n",
    "        k_fold = StratifiedShuffleSplit(n_splits=n_iter,test_size=percent_initially_unlabelled[i],\n",
    "                                                     random_state=1)\n",
    "\n",
    "    else:\n",
    "        k_fold = cross_validation.ShuffleSplit(n_splits=n_iter,\n",
    "                                           test_size=percent_initially_unlabelled[i],\n",
    "                                           random_state=1)\n",
    "    accuracy_one = [] \n",
    "    micro_auc_one = []\n",
    "    wt_auc_one = []\n",
    "    \n",
    "    \n",
    "    accuracy_two = [] \n",
    "    micro_auc_two = []\n",
    "    wt_auc_two = []\n",
    "    \n",
    "\n",
    "    # update rule for theta\n",
    "    for train_index, test_index in k_fold.split(keys, gender_y_input):\n",
    "        accuracy_score_benchmark = np.mean(np.array(gender_y_input)[train_index] == np.max(class_labels))\n",
    "        # get 1-hop result\n",
    "        (theta_one_tmp, micro_auc_one_tmp, wt_auc_one_tmp, accuracy_one_tmp) = one_hop_majority_vote(graph_input, gender_y_input,train_index, test_index)\n",
    "        accuracy_one.append(accuracy_one_tmp)\n",
    "        micro_auc_one.append(micro_auc_one_tmp)\n",
    "        wt_auc_one.append(wt_auc_one_tmp)\n",
    "        # get 2-hop result\n",
    "        bench_mark = gender_y_input/len(gender_y_input)\n",
    "        (theta_two_tmp, micro_auc_two_tmp, wt_auc_two_tmp, accuracy_two_tmp) = iterative_method_test(1, graph_input, gender_y_input, gender_y_input, train_index, test_index, bench_mark)\n",
    "        accuracy_two.append(accuracy_two_tmp)\n",
    "        micro_auc_two.append(micro_auc_two_tmp)\n",
    "        wt_auc_two.append(wt_auc_two_tmp)\n",
    "                \n",
    "        \n",
    "        \n",
    "    # get the mean and standard deviation\n",
    "    mean_accuracy_one.append(np.mean(accuracy_one))  \n",
    "    se_accuracy_one.append(np.std(accuracy_one)) \n",
    "        \n",
    "    mean_micro_auc_one.append(np.mean(micro_auc_one))\n",
    "    se_micro_auc_one.append(np.std(micro_auc_one))\n",
    "    \n",
    "    mean_wt_auc_one.append(np.mean(wt_auc_one))\n",
    "    se_wt_auc_one.append(np.std(wt_auc_one))    \n",
    "    \n",
    "    # get the mean and standard deviation\n",
    "    mean_accuracy_two.append(np.mean(accuracy_two))  \n",
    "    se_accuracy_two.append(np.std(accuracy_two)) \n",
    "        \n",
    "    mean_micro_auc_two.append(np.mean(micro_auc_two))\n",
    "    se_micro_auc_two.append(np.std(micro_auc_two))\n",
    "    \n",
    "    mean_wt_auc_two.append(np.mean(wt_auc_two))\n",
    "    se_wt_auc_two.append(np.std(wt_auc_two)) \n",
    "\n",
    "    "
   ]
  },
  {
   "cell_type": "markdown",
   "metadata": {},
   "source": [
    "## decoupled smoothing method (with parameter 0.1)"
   ]
  },
  {
   "cell_type": "code",
   "execution_count": 5,
   "metadata": {},
   "outputs": [
    {
     "name": "stdout",
     "output_type": "stream",
     "text": [
      "0.99\n"
     ]
    },
    {
     "name": "stderr",
     "output_type": "stream",
     "text": [
      "/Users/yatong_chen/anaconda3/lib/python3.7/site-packages/sklearn/metrics/classification.py:1143: UndefinedMetricWarning: F-score is ill-defined and being set to 0.0 in labels with no predicted samples.\n",
      "  'precision', 'predicted', average, warn_for)\n",
      "/Users/yatong_chen/anaconda3/lib/python3.7/site-packages/sklearn/metrics/classification.py:1143: UndefinedMetricWarning: F-score is ill-defined and being set to 0.0 in labels with no predicted samples.\n",
      "  'precision', 'predicted', average, warn_for)\n",
      "/Users/yatong_chen/anaconda3/lib/python3.7/site-packages/sklearn/metrics/classification.py:1143: UndefinedMetricWarning: F-score is ill-defined and being set to 0.0 in labels with no predicted samples.\n",
      "  'precision', 'predicted', average, warn_for)\n",
      "/Users/yatong_chen/anaconda3/lib/python3.7/site-packages/sklearn/metrics/classification.py:1143: UndefinedMetricWarning: F-score is ill-defined and being set to 0.0 in labels with no predicted samples.\n",
      "  'precision', 'predicted', average, warn_for)\n",
      "/Users/yatong_chen/anaconda3/lib/python3.7/site-packages/sklearn/metrics/classification.py:1143: UndefinedMetricWarning: F-score is ill-defined and being set to 0.0 in labels with no predicted samples.\n",
      "  'precision', 'predicted', average, warn_for)\n",
      "/Users/yatong_chen/anaconda3/lib/python3.7/site-packages/sklearn/metrics/classification.py:1143: UndefinedMetricWarning: F-score is ill-defined and being set to 0.0 in labels with no predicted samples.\n",
      "  'precision', 'predicted', average, warn_for)\n",
      "/Users/yatong_chen/anaconda3/lib/python3.7/site-packages/sklearn/metrics/classification.py:1143: UndefinedMetricWarning: F-score is ill-defined and being set to 0.0 in labels with no predicted samples.\n",
      "  'precision', 'predicted', average, warn_for)\n",
      "/Users/yatong_chen/anaconda3/lib/python3.7/site-packages/sklearn/metrics/classification.py:1143: UndefinedMetricWarning: F-score is ill-defined and being set to 0.0 in labels with no predicted samples.\n",
      "  'precision', 'predicted', average, warn_for)\n",
      "/Users/yatong_chen/anaconda3/lib/python3.7/site-packages/sklearn/metrics/classification.py:1143: UndefinedMetricWarning: F-score is ill-defined and being set to 0.0 in labels with no predicted samples.\n",
      "  'precision', 'predicted', average, warn_for)\n"
     ]
    },
    {
     "name": "stdout",
     "output_type": "stream",
     "text": [
      "0.95\n"
     ]
    },
    {
     "name": "stderr",
     "output_type": "stream",
     "text": [
      "/Users/yatong_chen/anaconda3/lib/python3.7/site-packages/sklearn/metrics/classification.py:1143: UndefinedMetricWarning: F-score is ill-defined and being set to 0.0 in labels with no predicted samples.\n",
      "  'precision', 'predicted', average, warn_for)\n",
      "/Users/yatong_chen/anaconda3/lib/python3.7/site-packages/sklearn/metrics/classification.py:1143: UndefinedMetricWarning: F-score is ill-defined and being set to 0.0 in labels with no predicted samples.\n",
      "  'precision', 'predicted', average, warn_for)\n",
      "/Users/yatong_chen/anaconda3/lib/python3.7/site-packages/sklearn/metrics/classification.py:1143: UndefinedMetricWarning: F-score is ill-defined and being set to 0.0 in labels with no predicted samples.\n",
      "  'precision', 'predicted', average, warn_for)\n",
      "/Users/yatong_chen/anaconda3/lib/python3.7/site-packages/sklearn/metrics/classification.py:1143: UndefinedMetricWarning: F-score is ill-defined and being set to 0.0 in labels with no predicted samples.\n",
      "  'precision', 'predicted', average, warn_for)\n",
      "/Users/yatong_chen/anaconda3/lib/python3.7/site-packages/sklearn/metrics/classification.py:1143: UndefinedMetricWarning: F-score is ill-defined and being set to 0.0 in labels with no predicted samples.\n",
      "  'precision', 'predicted', average, warn_for)\n"
     ]
    },
    {
     "name": "stdout",
     "output_type": "stream",
     "text": [
      "0.9\n"
     ]
    },
    {
     "name": "stderr",
     "output_type": "stream",
     "text": [
      "/Users/yatong_chen/anaconda3/lib/python3.7/site-packages/sklearn/metrics/classification.py:1143: UndefinedMetricWarning: F-score is ill-defined and being set to 0.0 in labels with no predicted samples.\n",
      "  'precision', 'predicted', average, warn_for)\n",
      "/Users/yatong_chen/anaconda3/lib/python3.7/site-packages/sklearn/metrics/classification.py:1143: UndefinedMetricWarning: F-score is ill-defined and being set to 0.0 in labels with no predicted samples.\n",
      "  'precision', 'predicted', average, warn_for)\n",
      "/Users/yatong_chen/anaconda3/lib/python3.7/site-packages/sklearn/metrics/classification.py:1143: UndefinedMetricWarning: F-score is ill-defined and being set to 0.0 in labels with no predicted samples.\n",
      "  'precision', 'predicted', average, warn_for)\n"
     ]
    },
    {
     "name": "stdout",
     "output_type": "stream",
     "text": [
      "0.8\n",
      "0.7\n",
      "0.6\n",
      "0.5\n",
      "0.4\n",
      "0.3\n",
      "0.2\n",
      "0.1\n",
      "0.05\n"
     ]
    }
   ],
   "source": [
    "sigma_square = 0.1\n",
    "(graph, gender_y)  = create_graph(adj_matrix_tmp,gender_dict,'gender',0,None,'yes')\n",
    "\n",
    "A_tilde = decoupling_prepare(graph,sigma_square)\n",
    "(mean_accuracy_decoupling_Swarthmore_01,se_accuracy_decoupling_Swarthmore_01,mean_micro_auc_decoupling_Swarthmore_01,se_micro_auc_decoupling_Swarthmore_01,mean_wt_auc_decoupling_Swarthmore_01,se_wt_auc_decoupling_Swarthmore_01) = ZGL(np.array(A_tilde),gender_y,percent_initially_unlabelled, n_iter, cv_setup)"
   ]
  },
  {
   "cell_type": "markdown",
   "metadata": {},
   "source": [
    "## hard smoothing method (ZGL)"
   ]
  },
  {
   "cell_type": "code",
   "execution_count": 6,
   "metadata": {},
   "outputs": [
    {
     "name": "stdout",
     "output_type": "stream",
     "text": [
      "0.99\n",
      "0.95\n",
      "0.9\n",
      "0.8\n",
      "0.7\n",
      "0.6\n",
      "0.5\n",
      "0.4\n",
      "0.3\n",
      "0.2\n",
      "0.1\n",
      "0.05\n"
     ]
    }
   ],
   "source": [
    "adj_matrix_tmp_ZGL = adj_matrix_tmp\n",
    "(graph, gender_y)  = create_graph(adj_matrix_tmp_ZGL,gender_dict,'gender',0,None,'yes')\n",
    "\n",
    "# run ZGL\n",
    "(mean_accuracy_zgl_Swarthmore, se_accuracy_zgl_Swarthmore, \n",
    "mean_micro_auc_zgl_Swarthmore,se_micro_auc_zgl_Swarthmore, \n",
    "mean_wt_auc_zgl_Swarthmore,se_wt_auc_zgl_Swarthmore) =ZGL(np.array(adj_matrix_gender),\n",
    "                                    np.array(gender_y),percent_initially_unlabelled, \n",
    "                                    n_iter,cv_setup)"
   ]
  },
  {
   "cell_type": "markdown",
   "metadata": {},
   "source": [
    "## Plot\n",
    "AUC against Initial unlabled node precentage"
   ]
  },
  {
   "cell_type": "code",
   "execution_count": 7,
   "metadata": {},
   "outputs": [
    {
     "data": {
      "image/png": "[encoded data removed]",
      "text/plain": [
       "<Figure size 432x288 with 1 Axes>"
      ]
     },
     "metadata": {
      "needs_background": "light"
     },
     "output_type": "display_data"
    }
   ],
   "source": [
    "%matplotlib inline\n",
    "from matplotlib.ticker import FixedLocator,LinearLocator,MultipleLocator, FormatStrFormatter\n",
    "\n",
    "fig = plt.figure()\n",
    "#seaborn.set_style(style='white')\n",
    "from mpl_toolkits.axes_grid1 import Grid\n",
    "grid = Grid(fig, rect=111, nrows_ncols=(1,1),\n",
    "            axes_pad=0.1, label_mode='L')\n",
    "for i in range(4):\n",
    "    if i == 0:\n",
    "        grid[i].xaxis.set_major_locator(FixedLocator([0,25,50,75,100]))\n",
    "        grid[i].yaxis.set_major_locator(FixedLocator([0.4, 0.5,0.6,0.7,0.8,0.9,1]))\n",
    "\n",
    "    \n",
    "        grid[i].errorbar(percent_initially_labelled*100,mean_wt_auc_zgl_Swarthmore,\n",
    "            yerr=se_wt_auc_zgl_Swarthmore, fmt='--o', capthick=2,\n",
    "            alpha=1, elinewidth=3, color='orange') \n",
    "        \n",
    "        grid[i].errorbar(percent_initially_labelled*100, mean_wt_auc_one,\n",
    "            yerr=se_wt_auc_one, fmt='--o', capthick=2,\n",
    "            alpha=1, elinewidth=3, color='red')\n",
    "        grid[i].errorbar(percent_initially_labelled*100, mean_wt_auc_two, \n",
    "            yerr=se_wt_auc_one, fmt='--o', capthick=2,\n",
    "                alpha=1, elinewidth=3, color='maroon')\n",
    "\n",
    "        \n",
    "        \n",
    "        grid[i].errorbar(percent_initially_labelled*100, mean_wt_auc_decoupling_Swarthmore_01, \n",
    "            yerr=se_wt_auc_decoupling_Swarthmore_01, fmt='--o', capthick=2,\n",
    "                alpha=1, elinewidth=3, color='black') \n",
    "   \n",
    "     \n",
    "        \n",
    "        grid[i].set_ylim(0.3,1.1)\n",
    "        grid[i].set_xlim(0,101)\n",
    "     \n",
    "        grid[i].annotate('1-hop MV', xy=(3, 0.80), \n",
    "                 color='red', alpha=1, size=12)\n",
    "        grid[i].annotate('2-hop MV', xy=(3, 0.84), \n",
    "                 color='maroon', alpha=1, size=12)\n",
    "        grid[i].annotate('hard smoothing', xy=(3, 0.88), \n",
    "                 color='orange', alpha=1, size=12)\n",
    "       \n",
    "        grid[i].annotate('decoupled smoothing', xy=(3, 0.92), \n",
    "                 color='black', alpha=1, size=12)\n",
    "\n",
    "        \n",
    "\n",
    "        grid[i].set_ylim(0.25,1.01)\n",
    "        grid[i].set_xlim(0,100)\n",
    "                         \n",
    "        grid[i].spines['right'].set_visible(False)\n",
    "        grid[i].spines['top'].set_visible(False)\n",
    "        grid[i].tick_params(axis='both', which='major', labelsize=13)\n",
    "        grid[i].tick_params(axis='both', which='minor', labelsize=13)\n",
    "        grid[i].set_xlabel('Percent of Nodes Initially Labeled').set_fontsize(15)\n",
    "        grid[i].set_ylabel('AUC').set_fontsize(15)\n",
    "\n",
    "grid[0].set_xticks([0,25, 50, 75, 100])\n",
    "grid[0].set_yticks([0.2, 0.4,0.6,0.8,1])\n",
    "\n",
    "\n",
    "grid[0].minorticks_on()\n",
    "grid[0].tick_params('both', length=4, width=1, which='major', left=1, bottom=1, top=0, right=0)\n"
   ]
  },
  {
   "cell_type": "code",
   "execution_count": null,
   "metadata": {},
   "outputs": [],
   "source": []
  },
  {
   "cell_type": "code",
   "execution_count": 96,
   "metadata": {
    "collapsed": true
   },
   "outputs": [],
   "source": []
  },
  {
   "cell_type": "code",
   "execution_count": null,
   "metadata": {
    "collapsed": true
   },
   "outputs": [],
   "source": []
  },
  {
   "cell_type": "code",
   "execution_count": null,
   "metadata": {
    "collapsed": true
   },
   "outputs": [],
   "source": []
  }
 ],
 "metadata": {
  "kernelspec": {
   "display_name": "Python 3",
   "language": "python",
   "name": "python3"
  },
  "language_info": {
   "codemirror_mode": {
    "name": "ipython",
    "version": 3
   },
   "file_extension": ".py",
   "mimetype": "text/x-python",
   "name": "python",
   "nbconvert_exporter": "python",
   "pygments_lexer": "ipython3",
   "version": "3.7.1"
  }
 },
 "nbformat": 4,
 "nbformat_minor": 2
}
